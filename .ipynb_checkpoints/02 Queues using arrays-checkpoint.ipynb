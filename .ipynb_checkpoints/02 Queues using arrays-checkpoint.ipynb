{
 "cells": [
  {
   "cell_type": "code",
   "execution_count": 26,
   "id": "9ad2b8e9",
   "metadata": {},
   "outputs": [],
   "source": [
    "class Queue:\n",
    "    \n",
    "    def __init__(self,size):\n",
    "        self.size = size\n",
    "        self.queue = [None]*size\n",
    "        self.rear = 0\n",
    "        self.front = 0\n",
    "    \n",
    "    def top(self):\n",
    "        print(self.queue[self.front])\n",
    "    \n",
    "    def push(self,value):\n",
    "        if self.front - self.rear in (self.size,self.size*-1):\n",
    "            print(\"Queue FULL\")\n",
    "            return\n",
    "            \n",
    "        self.queue[self.rear%self.size] = value\n",
    "        self.rear += 1\n",
    "    \n",
    "    def pop(self):\n",
    "        print(f\"Popped value -> {self.queue[self.front % self.size]}\")\n",
    "        self.queue[self.front % self.size] = None\n",
    "        self.front += 1\n",
    "        \n",
    "    def printQueue(self):\n",
    "        for i in range(self.front,self.rear):\n",
    "            print(self.queue[i % self.size])\n",
    "            print(self.queue)\n",
    "        "
   ]
  },
  {
   "cell_type": "code",
   "execution_count": 27,
   "id": "6d165b18",
   "metadata": {},
   "outputs": [
    {
     "name": "stdout",
     "output_type": "stream",
     "text": [
      "Enter the size of the queue -> 3\n"
     ]
    }
   ],
   "source": [
    "newQ = Queue(int(input(\"Enter the size of the queue -> \")))"
   ]
  },
  {
   "cell_type": "code",
   "execution_count": 29,
   "id": "d83ba9d1",
   "metadata": {},
   "outputs": [
    {
     "name": "stdout",
     "output_type": "stream",
     "text": [
      "ENTER 1 for front, 2 for push, 3 for pop, 4 for printing the queue2\n",
      "ENter the value to be pushed -> 34\n",
      "ENTER 1 for front, 2 for push, 3 for pop, 4 for printing the queue2\n",
      "ENter the value to be pushed -> 55\n",
      "ENTER 1 for front, 2 for push, 3 for pop, 4 for printing the queue2\n",
      "ENter the value to be pushed -> 67\n",
      "Queue FULL\n",
      "ENTER 1 for front, 2 for push, 3 for pop, 4 for printing the queue4\n",
      "33\n",
      "[33, 34, 55]\n",
      "34\n",
      "[33, 34, 55]\n",
      "55\n",
      "[33, 34, 55]\n",
      "ENTER 1 for front, 2 for push, 3 for pop, 4 for printing the queue3\n",
      "Popped value -> 33\n",
      "ENTER 1 for front, 2 for push, 3 for pop, 4 for printing the queue4\n",
      "34\n",
      "[None, 34, 55]\n",
      "55\n",
      "[None, 34, 55]\n",
      "ENTER 1 for front, 2 for push, 3 for pop, 4 for printing the queue55\n"
     ]
    }
   ],
   "source": [
    "while True:\n",
    "    inp = int(input(\"ENTER 1 for front, 2 for push, 3 for pop, 4 for printing the queue\"))\n",
    "    \n",
    "    if inp == 1:\n",
    "        newQ.top()\n",
    "    elif inp == 2:\n",
    "        newQ.push(int(input(\"ENter the value to be pushed -> \")))\n",
    "    elif inp == 3:\n",
    "        newQ.pop()\n",
    "    elif inp == 4:\n",
    "        newQ.printQueue()\n",
    "    else:\n",
    "        break"
   ]
  }
 ],
 "metadata": {
  "kernelspec": {
   "display_name": "Python 3 (ipykernel)",
   "language": "python",
   "name": "python3"
  },
  "language_info": {
   "codemirror_mode": {
    "name": "ipython",
    "version": 3
   },
   "file_extension": ".py",
   "mimetype": "text/x-python",
   "name": "python",
   "nbconvert_exporter": "python",
   "pygments_lexer": "ipython3",
   "version": "3.9.7"
  }
 },
 "nbformat": 4,
 "nbformat_minor": 5
}
