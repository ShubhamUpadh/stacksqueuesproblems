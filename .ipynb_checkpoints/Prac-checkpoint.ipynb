{
 "cells": [
  {
   "cell_type": "code",
   "execution_count": null,
   "id": "dba76eca",
   "metadata": {},
   "outputs": [],
   "source": [
    "def nextGreater(arr,n):\n",
    "    \n",
    "    st = Stack()\n",
    "    \n",
    "    for i in range(n-1,-1,-1):\n",
    "        \n",
    "        if st.isempty():\n",
    "            st.push(arr[i])\n",
    "        else:\n",
    "            while (not st.isempty()) and st.top() <= arr[i]:\n",
    "                st.pop()\n",
    "            \n",
    "            st.push(arr[i])\n",
    "    \n",
    "    retList = [-1]*n\n",
    "    \n",
    "    for i in range(n-1,-1,-1):\n",
    "        \n",
    "        if st.isempty():\n",
    "            st.push(arr[i])\n",
    "            retList[i] = -1\n",
    "        else:\n",
    "            while (not st.isempty()) and st.top() <= arr[i]:\n",
    "                st.pop()\n",
    "            retList[i] = st.top()\n",
    "            st.push(arr[i])\n",
    "        \n",
    "        "
   ]
  }
 ],
 "metadata": {
  "kernelspec": {
   "display_name": "Python 3 (ipykernel)",
   "language": "python",
   "name": "python3"
  },
  "language_info": {
   "codemirror_mode": {
    "name": "ipython",
    "version": 3
   },
   "file_extension": ".py",
   "mimetype": "text/x-python",
   "name": "python",
   "nbconvert_exporter": "python",
   "pygments_lexer": "ipython3",
   "version": "3.9.7"
  }
 },
 "nbformat": 4,
 "nbformat_minor": 5
}
