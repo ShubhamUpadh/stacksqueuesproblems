{
 "cells": [
  {
   "cell_type": "raw",
   "id": "2d6c3ee8",
   "metadata": {},
   "source": [
    "Pseudo Code\n",
    "\n",
    "IMPLEMENT STACK USING TWO QUEUES\n",
    "\n",
    "- Basically maintain two queues\n",
    "- Push new element to Q2\n",
    "- Push all the elements of Q1 to Q2 element by element\n",
    "- Now push all the elements of Q2 to Q1 element by element\n",
    "- For popping, pop the top element of Q1"
   ]
  },
  {
   "cell_type": "code",
   "execution_count": null,
   "id": "74f9328d",
   "metadata": {},
   "outputs": [],
   "source": [
    "def stackQueue():\n",
    "\n",
    "    Q1 = Queue()\n",
    "    Q2 = Queue()\n",
    "    \n",
    "    def push(value):\n",
    "        \n",
    "        Q2.push(value)  # yahan humne naya element Q2 me push kar dia hai\n",
    "        \n",
    "        while Q1.top() != None:  # yahan hum Q1 ke saare elements khaali karenge\n",
    "            val = Q1.pop()\n",
    "            Q2.push(val)\n",
    "        \n",
    "        while Q2.top() != None:\n",
    "            val = Q2.pop()\n",
    "            Q1.push(val)\n",
    "    \n",
    "    def pop():\n",
    "        return Q1.pop()\n",
    "    \n",
    "    \n",
    "    "
   ]
  },
  {
   "cell_type": "code",
   "execution_count": null,
   "id": "0db9a1bc",
   "metadata": {},
   "outputs": [],
   "source": [
    "def stackQueue():\n",
    "    \n",
    "    Q1 = Queue()\n",
    "    \n",
    "    def push(value):\n",
    "        \n",
    "        Q1.push(value)\n",
    "        \n",
    "        for i in range(top-1):\n",
    "            val = Q1.pop(i)\n",
    "            Q1.push(val)\n",
    "        \n",
    "    def pop():\n",
    "        return Q1.pop()\n",
    "        "
   ]
  }
 ],
 "metadata": {
  "kernelspec": {
   "display_name": "Python 3 (ipykernel)",
   "language": "python",
   "name": "python3"
  },
  "language_info": {
   "codemirror_mode": {
    "name": "ipython",
    "version": 3
   },
   "file_extension": ".py",
   "mimetype": "text/x-python",
   "name": "python",
   "nbconvert_exporter": "python",
   "pygments_lexer": "ipython3",
   "version": "3.9.7"
  }
 },
 "nbformat": 4,
 "nbformat_minor": 5
}
