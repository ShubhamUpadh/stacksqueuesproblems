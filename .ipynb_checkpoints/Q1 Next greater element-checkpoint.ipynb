{
 "cells": [
  {
   "cell_type": "code",
   "execution_count": 2,
   "id": "8fa32faf",
   "metadata": {},
   "outputs": [],
   "source": [
    "def nextGreater(arr,n):              # O(n2)\n",
    "    \n",
    "    retList = []\n",
    "    \n",
    "    for i in range(0,n-1):\n",
    "        flag = False\n",
    "        for j in range(i+1,2*n):\n",
    "            if arr[i] < arr[j%n]:\n",
    "                retList.append(arr[j])\n",
    "                flag = True\n",
    "                break\n",
    "        if not flag:\n",
    "            retList.append(-1)\n",
    "    \n",
    "    return retList\n"
   ]
  },
  {
   "cell_type": "code",
   "execution_count": 3,
   "id": "ea96491f",
   "metadata": {},
   "outputs": [],
   "source": [
    "def nextGreater(arr,n):\n",
    "    # using stacks\n",
    "    \n",
    "    st = Stack()\n",
    "    \n",
    "    for i in range(n-1,-1,-1):     # yahan se circular waala kaam ho gya\n",
    "        \n",
    "        while st.top() <= arr[i]:\n",
    "            st.pop()\n",
    "        \n",
    "        if st.size == 0:\n",
    "            st.push(arr[i])\n",
    "    \n",
    "    retList = []\n",
    "    \n",
    "    for i in range(n-1,-1,-1):\n",
    "        \n",
    "        while st.top() <= arr[i]:\n",
    "            st.pop()\n",
    "        \n",
    "        if st.size != 0:\n",
    "            retList.append(st.top())\n",
    "        else:\n",
    "            retList.append(-1)\n",
    "            st.push(arr[i])\n",
    "    \n",
    "    return retList"
   ]
  }
 ],
 "metadata": {
  "kernelspec": {
   "display_name": "Python 3 (ipykernel)",
   "language": "python",
   "name": "python3"
  },
  "language_info": {
   "codemirror_mode": {
    "name": "ipython",
    "version": 3
   },
   "file_extension": ".py",
   "mimetype": "text/x-python",
   "name": "python",
   "nbconvert_exporter": "python",
   "pygments_lexer": "ipython3",
   "version": "3.9.7"
  }
 },
 "nbformat": 4,
 "nbformat_minor": 5
}
