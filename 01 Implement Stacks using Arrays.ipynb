{
 "cells": [
  {
   "cell_type": "code",
   "execution_count": null,
   "id": "d606b29d",
   "metadata": {},
   "outputs": [],
   "source": [
    "class stackList:\n",
    "    \n",
    "    def __init__(self,size):\n",
    "        self.stack = list()\n",
    "        self.topLoc = -1\n",
    "        self.size = size\n",
    "    \n",
    "    def top(self):\n",
    "        \n",
    "        if self.topLoc == -1:\n",
    "            print(\"Stack Empty\")\n",
    "        else:\n",
    "            print(self.stack[self.topLoc])\n",
    "            \n",
    "        return\n",
    "    \n",
    "    def push(self,value):\n",
    "        \n",
    "        if top == size:\n",
    "            print(\"Insertion not possible, STACK FULL !!!!\")\n",
    "            return\n",
    "        \n",
    "        else:\n",
    "            self.topLoc += 1\n",
    "            self.stack[self.topLoc] = value\n",
    "            print(\"Value pushed\")\n",
    "            return\n",
    "        \n",
    "    def pop(self):\n",
    "        \n",
    "        print(self.stack[self.topLoc])\n",
    "        self.stack[self.topLoc] = None\n",
    "        self.topLoc -= 1\n",
    "    \n",
    "        "
   ]
  }
 ],
 "metadata": {
  "kernelspec": {
   "display_name": "Python 3 (ipykernel)",
   "language": "python",
   "name": "python3"
  },
  "language_info": {
   "codemirror_mode": {
    "name": "ipython",
    "version": 3
   },
   "file_extension": ".py",
   "mimetype": "text/x-python",
   "name": "python",
   "nbconvert_exporter": "python",
   "pygments_lexer": "ipython3",
   "version": "3.9.7"
  }
 },
 "nbformat": 4,
 "nbformat_minor": 5
}
