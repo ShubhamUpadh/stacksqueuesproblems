{
 "cells": [
  {
   "cell_type": "code",
   "execution_count": null,
   "id": "38d20f73",
   "metadata": {},
   "outputs": [],
   "source": [
    "def largestRectangle(arr,n):\n",
    "    \n",
    "    maxArea = -1\n",
    "    \n",
    "    for i in range(0,n):\n",
    "        \n",
    "        ht = arr[i]\n",
    "        lt = 1  \n",
    "        \n",
    "        for j in range(i-1,-1,-1):\n",
    "            if arr[i] < arr[j]:\n",
    "                break\n",
    "            else:\n",
    "                lt += 1\n",
    "        \n",
    "        for j in range(i+1,n):\n",
    "            if arr[i] < arr[j]:\n",
    "                break\n",
    "            else:\n",
    "                lt += 1\n",
    "        \n",
    "        maxArea = max(maxArea,ht*lt)"
   ]
  },
  {
   "cell_type": "code",
   "execution_count": null,
   "id": "6de870c9",
   "metadata": {},
   "outputs": [],
   "source": [
    "def largestRectangle(arr,n):\n",
    "    \n",
    "    #currArea = (rightSmall[i] - leftSmall[i] + 1) * arr[i]\n",
    "    \n",
    "    # loop for finding the left smaller index and declaring a boundary there\n",
    "    \n",
    "    st = Stack()\n",
    "    leftSmall = [-1]*n\n",
    "    \n",
    "    for i in range(0,n):\n",
    "\n",
    "        if st.size == 0:\n",
    "            leftSmall[i] = i\n",
    "            st.push(i)\n",
    "        else:\n",
    "            while arr[st.top()] < arr[i]:\n",
    "                st.pop()\n",
    "            st.push(i)\n",
    "            leftSmall[i] = st.top()\n",
    "\n"
   ]
  }
 ],
 "metadata": {
  "kernelspec": {
   "display_name": "Python 3 (ipykernel)",
   "language": "python",
   "name": "python3"
  },
  "language_info": {
   "codemirror_mode": {
    "name": "ipython",
    "version": 3
   },
   "file_extension": ".py",
   "mimetype": "text/x-python",
   "name": "python",
   "nbconvert_exporter": "python",
   "pygments_lexer": "ipython3",
   "version": "3.9.7"
  }
 },
 "nbformat": 4,
 "nbformat_minor": 5
}
