{
 "cells": [
  {
   "cell_type": "code",
   "execution_count": null,
   "id": "abeaae27",
   "metadata": {},
   "outputs": [],
   "source": [
    "class MinStack:\n",
    "    # @param x, an integer\n",
    "    def __init__(self):\n",
    "        self.arr = []\n",
    "        self.minv = []      # ye sorted list rahegi\n",
    "    \n",
    "    def push(self, x):\n",
    "        self.arr.append(x)\n",
    "        if not self.minv or x <= self.getMin():\n",
    "            self.minv.append(x)\n",
    "\n",
    "\n",
    "    # @return nothing\n",
    "    def pop(self):\n",
    "        if self.arr and self.minv:\n",
    "            if self.arr[-1] == self.minv[-1]:\n",
    "                self.arr.pop()\n",
    "                self.minv.pop()\n",
    "            else:\n",
    "                self.arr.pop()\n",
    "            \n",
    "\n",
    "\n",
    "    # @return an integer\n",
    "    def top(self):\n",
    "        if self.arr:\n",
    "            return self.arr[-1]\n",
    "        else:\n",
    "            return -1\n",
    "    \n",
    "    # @return an integer\n",
    "    def getMin(self):\n",
    "        if len(self.minv) == 0:\n",
    "            return -1\n",
    "        else:\n",
    "            return self.minv[-1]"
   ]
  }
 ],
 "metadata": {
  "kernelspec": {
   "display_name": "Python 3 (ipykernel)",
   "language": "python",
   "name": "python3"
  },
  "language_info": {
   "codemirror_mode": {
    "name": "ipython",
    "version": 3
   },
   "file_extension": ".py",
   "mimetype": "text/x-python",
   "name": "python",
   "nbconvert_exporter": "python",
   "pygments_lexer": "ipython3",
   "version": "3.9.7"
  }
 },
 "nbformat": 4,
 "nbformat_minor": 5
}
